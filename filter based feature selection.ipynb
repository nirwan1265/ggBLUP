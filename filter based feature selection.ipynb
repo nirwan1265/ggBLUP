{
 "cells": [
  {
   "cell_type": "code",
   "execution_count": 8,
   "id": "c8e11262",
   "metadata": {},
   "outputs": [],
   "source": [
    "# Required Libraries\n",
    "import numpy as np\n",
    "import pandas as pd\n",
    "import matplotlib.pyplot as plt\n",
    "import seaborn as sns\n",
    "%matplotlib inline\n",
    "from sklearn.model_selection import train_test_split\n",
    "from sklearn.feature_selection import mutual_info_regression, mutual_info_classif\n",
    "from sklearn.preprocessing import LabelEncoder"
   ]
  },
  {
   "cell_type": "code",
   "execution_count": 2,
   "id": "92a8f5e5",
   "metadata": {},
   "outputs": [
    {
     "data": {
      "text/html": [
       "<div>\n",
       "<style scoped>\n",
       "    .dataframe tbody tr th:only-of-type {\n",
       "        vertical-align: middle;\n",
       "    }\n",
       "\n",
       "    .dataframe tbody tr th {\n",
       "        vertical-align: top;\n",
       "    }\n",
       "\n",
       "    .dataframe thead th {\n",
       "        text-align: right;\n",
       "    }\n",
       "</style>\n",
       "<table border=\"1\" class=\"dataframe\">\n",
       "  <thead>\n",
       "    <tr style=\"text-align: right;\">\n",
       "      <th></th>\n",
       "      <th>mpg</th>\n",
       "      <th>cylinders</th>\n",
       "      <th>displacement</th>\n",
       "      <th>horsepower</th>\n",
       "      <th>weight</th>\n",
       "      <th>acceleration</th>\n",
       "      <th>model year</th>\n",
       "      <th>origin</th>\n",
       "      <th>Car name</th>\n",
       "    </tr>\n",
       "  </thead>\n",
       "  <tbody>\n",
       "    <tr>\n",
       "      <th>0</th>\n",
       "      <td>18.0</td>\n",
       "      <td>8</td>\n",
       "      <td>307.0</td>\n",
       "      <td>130</td>\n",
       "      <td>3504</td>\n",
       "      <td>12.0</td>\n",
       "      <td>70</td>\n",
       "      <td>1</td>\n",
       "      <td>chevrolet chevelle malibu</td>\n",
       "    </tr>\n",
       "    <tr>\n",
       "      <th>1</th>\n",
       "      <td>15.0</td>\n",
       "      <td>8</td>\n",
       "      <td>350.0</td>\n",
       "      <td>165</td>\n",
       "      <td>3693</td>\n",
       "      <td>11.5</td>\n",
       "      <td>70</td>\n",
       "      <td>1</td>\n",
       "      <td>buick skylark 320</td>\n",
       "    </tr>\n",
       "  </tbody>\n",
       "</table>\n",
       "</div>"
      ],
      "text/plain": [
       "    mpg  cylinders  displacement horsepower  weight  acceleration  model year  \\\n",
       "0  18.0          8         307.0        130    3504          12.0          70   \n",
       "1  15.0          8         350.0        165    3693          11.5          70   \n",
       "\n",
       "   origin                   Car name  \n",
       "0       1  chevrolet chevelle malibu  \n",
       "1       1          buick skylark 320  "
      ]
     },
     "execution_count": 2,
     "metadata": {},
     "output_type": "execute_result"
    }
   ],
   "source": [
    "# Reading the dataset\n",
    "dataset = pd.read_csv(\"data/auto-mpg.csv\")\n",
    "dataset.head(2)"
   ]
  },
  {
   "cell_type": "code",
   "execution_count": 3,
   "id": "6959824a",
   "metadata": {},
   "outputs": [
    {
     "name": "stdout",
     "output_type": "stream",
     "text": [
      "<class 'pandas.core.frame.DataFrame'>\n",
      "RangeIndex: 398 entries, 0 to 397\n",
      "Data columns (total 9 columns):\n",
      " #   Column        Non-Null Count  Dtype  \n",
      "---  ------        --------------  -----  \n",
      " 0   mpg           398 non-null    float64\n",
      " 1   cylinders     398 non-null    int64  \n",
      " 2   displacement  398 non-null    float64\n",
      " 3   horsepower    398 non-null    object \n",
      " 4   weight        398 non-null    int64  \n",
      " 5   acceleration  398 non-null    float64\n",
      " 6   model year    398 non-null    int64  \n",
      " 7   origin        398 non-null    int64  \n",
      " 8   Car name      398 non-null    object \n",
      "dtypes: float64(3), int64(4), object(2)\n",
      "memory usage: 28.1+ KB\n"
     ]
    }
   ],
   "source": [
    "# Infor\n",
    "dataset.info()"
   ]
  },
  {
   "cell_type": "code",
   "execution_count": 4,
   "id": "30137197",
   "metadata": {},
   "outputs": [
    {
     "data": {
      "text/html": [
       "<div>\n",
       "<style scoped>\n",
       "    .dataframe tbody tr th:only-of-type {\n",
       "        vertical-align: middle;\n",
       "    }\n",
       "\n",
       "    .dataframe tbody tr th {\n",
       "        vertical-align: top;\n",
       "    }\n",
       "\n",
       "    .dataframe thead th {\n",
       "        text-align: right;\n",
       "    }\n",
       "</style>\n",
       "<table border=\"1\" class=\"dataframe\">\n",
       "  <thead>\n",
       "    <tr style=\"text-align: right;\">\n",
       "      <th></th>\n",
       "      <th>horsepower</th>\n",
       "      <th>Car name</th>\n",
       "    </tr>\n",
       "  </thead>\n",
       "  <tbody>\n",
       "    <tr>\n",
       "      <th>count</th>\n",
       "      <td>398</td>\n",
       "      <td>398</td>\n",
       "    </tr>\n",
       "    <tr>\n",
       "      <th>unique</th>\n",
       "      <td>94</td>\n",
       "      <td>305</td>\n",
       "    </tr>\n",
       "    <tr>\n",
       "      <th>top</th>\n",
       "      <td>150</td>\n",
       "      <td>ford pinto</td>\n",
       "    </tr>\n",
       "    <tr>\n",
       "      <th>freq</th>\n",
       "      <td>22</td>\n",
       "      <td>6</td>\n",
       "    </tr>\n",
       "  </tbody>\n",
       "</table>\n",
       "</div>"
      ],
      "text/plain": [
       "       horsepower    Car name\n",
       "count         398         398\n",
       "unique         94         305\n",
       "top           150  ford pinto\n",
       "freq           22           6"
      ]
     },
     "execution_count": 4,
     "metadata": {},
     "output_type": "execute_result"
    }
   ],
   "source": [
    "# Checking the presence of categorical features\n",
    "dataset.describe(include='O')"
   ]
  },
  {
   "cell_type": "code",
   "execution_count": 6,
   "id": "175c4f03",
   "metadata": {},
   "outputs": [],
   "source": [
    "# Updating the horsepower feature to int and filling all nulls with 0\n",
    "dataset['horsepower'] = pd.to_numeric(dataset['horsepower'], errors='coerce').fillna(0).astype(int)"
   ]
  },
  {
   "cell_type": "code",
   "execution_count": 7,
   "id": "0dd5072a",
   "metadata": {},
   "outputs": [
    {
     "data": {
      "text/html": [
       "<div>\n",
       "<style scoped>\n",
       "    .dataframe tbody tr th:only-of-type {\n",
       "        vertical-align: middle;\n",
       "    }\n",
       "\n",
       "    .dataframe tbody tr th {\n",
       "        vertical-align: top;\n",
       "    }\n",
       "\n",
       "    .dataframe thead th {\n",
       "        text-align: right;\n",
       "    }\n",
       "</style>\n",
       "<table border=\"1\" class=\"dataframe\">\n",
       "  <thead>\n",
       "    <tr style=\"text-align: right;\">\n",
       "      <th></th>\n",
       "      <th>Car name</th>\n",
       "    </tr>\n",
       "  </thead>\n",
       "  <tbody>\n",
       "    <tr>\n",
       "      <th>count</th>\n",
       "      <td>398</td>\n",
       "    </tr>\n",
       "    <tr>\n",
       "      <th>unique</th>\n",
       "      <td>305</td>\n",
       "    </tr>\n",
       "    <tr>\n",
       "      <th>top</th>\n",
       "      <td>ford pinto</td>\n",
       "    </tr>\n",
       "    <tr>\n",
       "      <th>freq</th>\n",
       "      <td>6</td>\n",
       "    </tr>\n",
       "  </tbody>\n",
       "</table>\n",
       "</div>"
      ],
      "text/plain": [
       "          Car name\n",
       "count          398\n",
       "unique         305\n",
       "top     ford pinto\n",
       "freq             6"
      ]
     },
     "execution_count": 7,
     "metadata": {},
     "output_type": "execute_result"
    }
   ],
   "source": [
    "# Check for categorical again\n",
    "dataset.describe(include='O')"
   ]
  },
  {
   "cell_type": "code",
   "execution_count": 9,
   "id": "194652fc",
   "metadata": {},
   "outputs": [],
   "source": [
    "#Creating a labelEncoder for Car name to encode Car names with a value between 0 and n_classes-1. In our case n_classes for Car name is 305\n",
    "labelencoder = LabelEncoder()\n",
    "X_en= dataset.iloc[:, 8].values\n",
    "X_en = labelencoder.fit_transform(X_en)"
   ]
  },
  {
   "cell_type": "code",
   "execution_count": 13,
   "id": "ea6b9d8b",
   "metadata": {},
   "outputs": [
    {
     "data": {
      "text/plain": [
       "array([18. , 15. , 18. , 16. , 17. , 15. , 14. , 14. , 14. , 15. , 15. ,\n",
       "       14. , 15. , 14. , 24. , 22. , 18. , 21. , 27. , 26. , 25. , 24. ,\n",
       "       25. , 26. , 21. , 10. , 10. , 11. ,  9. , 27. , 28. , 25. , 25. ,\n",
       "       19. , 16. , 17. , 19. , 18. , 14. , 14. , 14. , 14. , 12. , 13. ,\n",
       "       13. , 18. , 22. , 19. , 18. , 23. , 28. , 30. , 30. , 31. , 35. ,\n",
       "       27. , 26. , 24. , 25. , 23. , 20. , 21. , 13. , 14. , 15. , 14. ,\n",
       "       17. , 11. , 13. , 12. , 13. , 19. , 15. , 13. , 13. , 14. , 18. ,\n",
       "       22. , 21. , 26. , 22. , 28. , 23. , 28. , 27. , 13. , 14. , 13. ,\n",
       "       14. , 15. , 12. , 13. , 13. , 14. , 13. , 12. , 13. , 18. , 16. ,\n",
       "       18. , 18. , 23. , 26. , 11. , 12. , 13. , 12. , 18. , 20. , 21. ,\n",
       "       22. , 18. , 19. , 21. , 26. , 15. , 16. , 29. , 24. , 20. , 19. ,\n",
       "       15. , 24. , 20. , 11. , 20. , 21. , 19. , 15. , 31. , 26. , 32. ,\n",
       "       25. , 16. , 16. , 18. , 16. , 13. , 14. , 14. , 14. , 29. , 26. ,\n",
       "       26. , 31. , 32. , 28. , 24. , 26. , 24. , 26. , 31. , 19. , 18. ,\n",
       "       15. , 15. , 16. , 15. , 16. , 14. , 17. , 16. , 15. , 18. , 21. ,\n",
       "       20. , 13. , 29. , 23. , 20. , 23. , 24. , 25. , 24. , 18. , 29. ,\n",
       "       19. , 23. , 23. , 22. , 25. , 33. , 28. , 25. , 25. , 26. , 27. ,\n",
       "       17.5, 16. , 15.5, 14.5, 22. , 22. , 24. , 22.5, 29. , 24.5, 29. ,\n",
       "       33. , 20. , 18. , 18.5, 17.5, 29.5, 32. , 28. , 26.5, 20. , 13. ,\n",
       "       19. , 19. , 16.5, 16.5, 13. , 13. , 13. , 31.5, 30. , 36. , 25.5,\n",
       "       33.5, 17.5, 17. , 15.5, 15. , 17.5, 20.5, 19. , 18.5, 16. , 15.5,\n",
       "       15.5, 16. , 29. , 24.5, 26. , 25.5, 30.5, 33.5, 30. , 30.5, 22. ,\n",
       "       21.5, 21.5, 43.1, 36.1, 32.8, 39.4, 36.1, 19.9, 19.4, 20.2, 19.2,\n",
       "       20.5, 20.2, 25.1, 20.5, 19.4, 20.6, 20.8, 18.6, 18.1, 19.2, 17.7,\n",
       "       18.1, 17.5, 30. , 27.5, 27.2, 30.9, 21.1, 23.2, 23.8, 23.9, 20.3,\n",
       "       17. , 21.6, 16.2, 31.5, 29.5, 21.5, 19.8, 22.3, 20.2, 20.6, 17. ,\n",
       "       17.6, 16.5, 18.2, 16.9, 15.5, 19.2, 18.5, 31.9, 34.1, 35.7, 27.4,\n",
       "       25.4, 23. , 27.2, 23.9, 34.2, 34.5, 31.8, 37.3, 28.4, 28.8, 26.8,\n",
       "       33.5, 41.5, 38.1, 32.1, 37.2, 28. , 26.4, 24.3, 19.1, 34.3, 29.8,\n",
       "       31.3, 37. , 32.2, 46.6, 27.9, 40.8, 44.3, 43.4, 36.4, 30. , 44.6,\n",
       "       40.9, 33.8, 29.8, 32.7, 23.7, 35. , 23.6, 32.4, 27.2, 26.6, 25.8,\n",
       "       23.5, 30. , 39.1, 39. , 35.1, 32.3, 37. , 37.7, 34.1, 34.7, 34.4,\n",
       "       29.9, 33. , 34.5, 33.7, 32.4, 32.9, 31.6, 28.1, 30.7, 25.4, 24.2,\n",
       "       22.4, 26.6, 20.2, 17.6, 28. , 27. , 34. , 31. , 29. , 27. , 24. ,\n",
       "       23. , 36. , 37. , 31. , 38. , 36. , 36. , 36. , 34. , 38. , 32. ,\n",
       "       38. , 25. , 38. , 26. , 22. , 32. , 36. , 27. , 27. , 44. , 32. ,\n",
       "       28. , 31. ])"
      ]
     },
     "execution_count": 13,
     "metadata": {},
     "output_type": "execute_result"
    }
   ],
   "source": [
    "#Creating the input features X and target variable y\n",
    "X= dataset.iloc[:,1:7]\n",
    "X['Car'] = X_en\n",
    "y= dataset.iloc[:,0].values"
   ]
  },
  {
   "cell_type": "code",
   "execution_count": 15,
   "id": "a442b406",
   "metadata": {},
   "outputs": [
    {
     "data": {
      "text/html": [
       "<div>\n",
       "<style scoped>\n",
       "    .dataframe tbody tr th:only-of-type {\n",
       "        vertical-align: middle;\n",
       "    }\n",
       "\n",
       "    .dataframe tbody tr th {\n",
       "        vertical-align: top;\n",
       "    }\n",
       "\n",
       "    .dataframe thead th {\n",
       "        text-align: right;\n",
       "    }\n",
       "</style>\n",
       "<table border=\"1\" class=\"dataframe\">\n",
       "  <thead>\n",
       "    <tr style=\"text-align: right;\">\n",
       "      <th></th>\n",
       "      <th>cylinders</th>\n",
       "      <th>displacement</th>\n",
       "      <th>horsepower</th>\n",
       "      <th>weight</th>\n",
       "      <th>acceleration</th>\n",
       "      <th>model year</th>\n",
       "      <th>Car</th>\n",
       "      <th>mpg</th>\n",
       "    </tr>\n",
       "  </thead>\n",
       "  <tbody>\n",
       "    <tr>\n",
       "      <th>0</th>\n",
       "      <td>8</td>\n",
       "      <td>307.0</td>\n",
       "      <td>130</td>\n",
       "      <td>3504</td>\n",
       "      <td>12.0</td>\n",
       "      <td>70</td>\n",
       "      <td>49</td>\n",
       "      <td>18.0</td>\n",
       "    </tr>\n",
       "    <tr>\n",
       "      <th>1</th>\n",
       "      <td>8</td>\n",
       "      <td>350.0</td>\n",
       "      <td>165</td>\n",
       "      <td>3693</td>\n",
       "      <td>11.5</td>\n",
       "      <td>70</td>\n",
       "      <td>36</td>\n",
       "      <td>15.0</td>\n",
       "    </tr>\n",
       "    <tr>\n",
       "      <th>2</th>\n",
       "      <td>8</td>\n",
       "      <td>318.0</td>\n",
       "      <td>150</td>\n",
       "      <td>3436</td>\n",
       "      <td>11.0</td>\n",
       "      <td>70</td>\n",
       "      <td>231</td>\n",
       "      <td>18.0</td>\n",
       "    </tr>\n",
       "    <tr>\n",
       "      <th>3</th>\n",
       "      <td>8</td>\n",
       "      <td>304.0</td>\n",
       "      <td>150</td>\n",
       "      <td>3433</td>\n",
       "      <td>12.0</td>\n",
       "      <td>70</td>\n",
       "      <td>14</td>\n",
       "      <td>16.0</td>\n",
       "    </tr>\n",
       "    <tr>\n",
       "      <th>4</th>\n",
       "      <td>8</td>\n",
       "      <td>302.0</td>\n",
       "      <td>140</td>\n",
       "      <td>3449</td>\n",
       "      <td>10.5</td>\n",
       "      <td>70</td>\n",
       "      <td>161</td>\n",
       "      <td>17.0</td>\n",
       "    </tr>\n",
       "    <tr>\n",
       "      <th>5</th>\n",
       "      <td>8</td>\n",
       "      <td>429.0</td>\n",
       "      <td>198</td>\n",
       "      <td>4341</td>\n",
       "      <td>10.0</td>\n",
       "      <td>70</td>\n",
       "      <td>141</td>\n",
       "      <td>15.0</td>\n",
       "    </tr>\n",
       "    <tr>\n",
       "      <th>6</th>\n",
       "      <td>8</td>\n",
       "      <td>454.0</td>\n",
       "      <td>220</td>\n",
       "      <td>4354</td>\n",
       "      <td>9.0</td>\n",
       "      <td>70</td>\n",
       "      <td>54</td>\n",
       "      <td>14.0</td>\n",
       "    </tr>\n",
       "    <tr>\n",
       "      <th>7</th>\n",
       "      <td>8</td>\n",
       "      <td>440.0</td>\n",
       "      <td>215</td>\n",
       "      <td>4312</td>\n",
       "      <td>8.5</td>\n",
       "      <td>70</td>\n",
       "      <td>223</td>\n",
       "      <td>14.0</td>\n",
       "    </tr>\n",
       "  </tbody>\n",
       "</table>\n",
       "</div>"
      ],
      "text/plain": [
       "   cylinders  displacement  horsepower  weight  acceleration  model year  Car  \\\n",
       "0          8         307.0         130    3504          12.0          70   49   \n",
       "1          8         350.0         165    3693          11.5          70   36   \n",
       "2          8         318.0         150    3436          11.0          70  231   \n",
       "3          8         304.0         150    3433          12.0          70   14   \n",
       "4          8         302.0         140    3449          10.5          70  161   \n",
       "5          8         429.0         198    4341          10.0          70  141   \n",
       "6          8         454.0         220    4354           9.0          70   54   \n",
       "7          8         440.0         215    4312           8.5          70  223   \n",
       "\n",
       "    mpg  \n",
       "0  18.0  \n",
       "1  15.0  \n",
       "2  18.0  \n",
       "3  16.0  \n",
       "4  17.0  \n",
       "5  15.0  \n",
       "6  14.0  \n",
       "7  14.0  "
      ]
     },
     "execution_count": 15,
     "metadata": {},
     "output_type": "execute_result"
    }
   ],
   "source": [
    "# Create a data set with all the input features after converting them to numeric including target variable\n",
    "full_data= X.copy()\n",
    "full_data['mpg']= y\n",
    "full_data.head(8)\n"
   ]
  },
  {
   "cell_type": "code",
   "execution_count": 17,
   "id": "c3494074",
   "metadata": {},
   "outputs": [
    {
     "name": "stdout",
     "output_type": "stream",
     "text": [
      "weight         -0.831741\n",
      "displacement   -0.804203\n",
      "cylinders      -0.775396\n",
      "horsepower     -0.754276\n",
      "Car             0.273936\n",
      "acceleration    0.420289\n",
      "model year      0.579267\n",
      "dtype: float64\n"
     ]
    }
   ],
   "source": [
    "# Applying step 1 of the filter method\n",
    "# Identify input features having high correlation with target variable\n",
    "\n",
    "importances = full_data.drop(\"mpg\", axis=1).apply(lambda x: x.corr(full_data.mpg))\n",
    "indices = np.argsort(importances)\n",
    "print(importances[indices])"
   ]
  },
  {
   "cell_type": "code",
   "execution_count": 18,
   "id": "ee09e11f",
   "metadata": {},
   "outputs": [
    {
     "data": {
      "image/png": "[encoded data removed]",
      "text/plain": [
       "<Figure size 432x288 with 1 Axes>"
      ]
     },
     "metadata": {
      "needs_background": "light"
     },
     "output_type": "display_data"
    }
   ],
   "source": [
    "#Plotting \n",
    "names=['cylinders','displacement','horsepower','weight','acceleration','model year', 'car']\n",
    "plt.title('Miles Per Gallon')\n",
    "plt.barh(range(len(indices)), importances[indices], color='g', align='center')\n",
    "plt.yticks(range(len(indices)), [names[i] for i in indices])\n",
    "plt.xlabel('Relative Importance')\n",
    "plt.show()"
   ]
  },
  {
   "cell_type": "code",
   "execution_count": 19,
   "id": "1b2186dc",
   "metadata": {},
   "outputs": [
    {
     "name": "stdout",
     "output_type": "stream",
     "text": [
      "cylinders\n",
      "displacement\n",
      "horsepower\n",
      "weight\n",
      "acceleration\n",
      "model year\n"
     ]
    }
   ],
   "source": [
    "# We want to keep features with only a high correlation with the target variable. This implies that the input feature has a high influence in predicting the target variable.\n",
    "# We set the threshold to the absolute value of 0.4. We keep input features only if the correlation of the input feature with the target variable is greater than 0.4\n",
    "\n",
    "for i in range(0, len(indices)):\n",
    "    if np.abs(importances[i])>0.4:\n",
    "        print(names[i])"
   ]
  },
  {
   "cell_type": "code",
   "execution_count": 21,
   "id": "a94b47b2",
   "metadata": {},
   "outputs": [],
   "source": [
    "X= dataset[ ['cylinders', 'displacement', 'horsepower', 'weight', 'acceleration', 'model year']]\n",
    "# We now have reduced the input features from 7 to 6. "
   ]
  },
  {
   "cell_type": "code",
   "execution_count": 22,
   "id": "acc7b49c",
   "metadata": {},
   "outputs": [
    {
     "name": "stdout",
     "output_type": "stream",
     "text": [
      "cylinders  is highly  correlated  with  displacement\n",
      "cylinders  is highly  correlated  with  horsepower\n",
      "cylinders  is highly  correlated  with  weight\n",
      "displacement  is highly  correlated  with  cylinders\n",
      "displacement  is highly  correlated  with  horsepower\n",
      "displacement  is highly  correlated  with  weight\n",
      "horsepower  is highly  correlated  with  cylinders\n",
      "horsepower  is highly  correlated  with  displacement\n",
      "horsepower  is highly  correlated  with  weight\n",
      "weight  is highly  correlated  with  cylinders\n",
      "weight  is highly  correlated  with  displacement\n",
      "weight  is highly  correlated  with  horsepower\n",
      "acceleration  is not correlated  with  model year\n",
      "model year  is not correlated  with  acceleration\n"
     ]
    }
   ],
   "source": [
    "# Step 2 of the filter method\n",
    "#Identify input features that have a low correlation with other independent variables.\n",
    "#Iterating through all the filtered input features based on step 1 and checking each input feature correlation with all other input features.\n",
    "#We will keep input features that are not highly correlated with other input features\n",
    "\n",
    "for i in range(0,len(X.columns)):\n",
    "    for j in  range(0,len(X.columns)):\n",
    "        if i!=j:\n",
    "            corr_1=np.abs(X[X.columns[i]].corr(X[X.columns[j]]))\n",
    "            if corr_1 <0.3:\n",
    "                print( X.columns[i] , \" is not correlated  with \", X.columns[j])\n",
    "            elif corr_1>0.75:\n",
    "                print( X.columns[i] , \" is highly  correlated  with \", X.columns[j])\n"
   ]
  },
  {
   "cell_type": "code",
   "execution_count": 23,
   "id": "281aca02",
   "metadata": {},
   "outputs": [],
   "source": [
    "#Based on the above result we keep cylinders, acceleration and model year and remove horsepower, displacement, and weight\n",
    "X= dataset[ ['cylinders', 'acceleration', 'model year']]"
   ]
  },
  {
   "cell_type": "code",
   "execution_count": 24,
   "id": "0926d255",
   "metadata": {},
   "outputs": [],
   "source": [
    "#Apply step 3 of the filter method\n",
    "# Find the information gain or mutual information of the independent variable with respect to a target variable\n",
    "\n",
    "mi = mutual_info_regression(X, y)"
   ]
  },
  {
   "cell_type": "code",
   "execution_count": 25,
   "id": "5d3669bc",
   "metadata": {},
   "outputs": [
    {
     "data": {
      "text/plain": [
       "<AxesSubplot:>"
      ]
     },
     "execution_count": 25,
     "metadata": {},
     "output_type": "execute_result"
    },
    {
     "data": {
      "image/png": "[encoded data removed]",
      "text/plain": [
       "<Figure size 720x288 with 1 Axes>"
      ]
     },
     "metadata": {
      "needs_background": "light"
     },
     "output_type": "display_data"
    }
   ],
   "source": [
    "#Plotting the mutual information\n",
    "mi = pd.Series(mi)\n",
    "mi.index = X.columns\n",
    "mi.sort_values(ascending=False)\n",
    "mi.sort_values(ascending=False).plot.bar(figsize=(10, 4))"
   ]
  },
  {
   "cell_type": "code",
   "execution_count": 26,
   "id": "b256c305",
   "metadata": {},
   "outputs": [],
   "source": [
    "#We now have our feature importance to predict the miles per gallon. Miles per gallon can be predicted based on the number of cylinders in the car, the year car was manufactured ad the acceleration."
   ]
  },
  {
   "cell_type": "code",
   "execution_count": 110,
   "id": "67bc4a4a",
   "metadata": {},
   "outputs": [],
   "source": [
    "#using the SelectKBest class from the sklearn.feature_selection module\n",
    "from sklearn.feature_selection import SelectKBest,  f_classif\n",
    "from sklearn.feature_selection import chi2"
   ]
  },
  {
   "cell_type": "code",
   "execution_count": 91,
   "id": "b458a3e6",
   "metadata": {},
   "outputs": [],
   "source": [
    "# X is a matrix of feature values and y is a vector of target values\n",
    "x_feature = dataset.iloc[::,1:8]\n",
    "x_feature = x_feature.to_numpy()\n",
    "y_target = dataset[['mpg']]\n",
    "y_target = y_target.values"
   ]
  },
  {
   "cell_type": "code",
   "execution_count": 106,
   "id": "a980c7ae",
   "metadata": {},
   "outputs": [],
   "source": [
    "#Select the top 10 features using chi-square test\n",
    "selector = SelectKBest(score_func = chi2, k = 5)\n",
    "\n",
    "#x_feature_new = selector.fit_transform(x_feature, y_target)\n",
    "fit = selector.fit(x_feature, y_target)"
   ]
  },
  {
   "cell_type": "code",
   "execution_count": 107,
   "id": "ba4c171a",
   "metadata": {},
   "outputs": [
    {
     "data": {
      "text/plain": [
       "array([1.79510746e+02, 1.92012148e+04, 4.95118794e+03, 8.39789969e+04,\n",
       "       9.32624619e+01, 4.56035790e+01, 9.85388745e+01])"
      ]
     },
     "execution_count": 107,
     "metadata": {},
     "output_type": "execute_result"
    }
   ],
   "source": [
    "#Chi square scores\n",
    "fit.scores_"
   ]
  },
  {
   "cell_type": "code",
   "execution_count": 108,
   "id": "506b8ec2",
   "metadata": {},
   "outputs": [
    {
     "data": {
      "text/plain": [
       "array([[8.000e+00, 3.070e+02, 1.300e+02, 3.504e+03, 1.000e+00],\n",
       "       [8.000e+00, 3.500e+02, 1.650e+02, 3.693e+03, 1.000e+00],\n",
       "       [8.000e+00, 3.180e+02, 1.500e+02, 3.436e+03, 1.000e+00],\n",
       "       ...,\n",
       "       [4.000e+00, 1.350e+02, 8.400e+01, 2.295e+03, 1.000e+00],\n",
       "       [4.000e+00, 1.200e+02, 7.900e+01, 2.625e+03, 1.000e+00],\n",
       "       [4.000e+00, 1.190e+02, 8.200e+01, 2.720e+03, 1.000e+00]])"
      ]
     },
     "execution_count": 108,
     "metadata": {},
     "output_type": "execute_result"
    }
   ],
   "source": [
    "#select the top four features\n",
    "x_feature_new = selector.fit_transform(x_feature, y_target)\n",
    "x_feature_new\n",
    "# Top features based on k "
   ]
  },
  {
   "cell_type": "code",
   "execution_count": 113,
   "id": "03c0b792",
   "metadata": {},
   "outputs": [
    {
     "data": {
      "text/plain": [
       "array([[   8.,  307.,  130., 3504.,   70.],\n",
       "       [   8.,  350.,  165., 3693.,   70.],\n",
       "       [   8.,  318.,  150., 3436.,   70.],\n",
       "       ...,\n",
       "       [   4.,  135.,   84., 2295.,   82.],\n",
       "       [   4.,  120.,   79., 2625.,   82.],\n",
       "       [   4.,  119.,   82., 2720.,   82.]])"
      ]
     },
     "execution_count": 113,
     "metadata": {},
     "output_type": "execute_result"
    }
   ],
   "source": [
    "#Select the top 10 features using F test\n",
    "selector = SelectKBest(score_func = f_classif, k = 5)\n",
    "\n",
    "#x_feature_new = selector.fit_transform(x_feature, y_target)\n",
    "x_feature_new = selector.fit_transform(x_feature, y_target)\n",
    "x_feature_new"
   ]
  },
  {
   "cell_type": "code",
   "execution_count": null,
   "id": "1ef58356",
   "metadata": {},
   "outputs": [],
   "source": [
    "# Using Sorghum sequences \n",
    "\n",
    "dataset = pd.read_csv(\"data/auto-mpg.csv\")"
   ]
  }
 ],
 "metadata": {
  "kernelspec": {
   "display_name": "Python 3",
   "language": "python",
   "name": "python3"
  },
  "language_info": {
   "codemirror_mode": {
    "name": "ipython",
    "version": 3
   },
   "file_extension": ".py",
   "mimetype": "text/x-python",
   "name": "python",
   "nbconvert_exporter": "python",
   "pygments_lexer": "ipython3",
   "version": "3.8.8"
  }
 },
 "nbformat": 4,
 "nbformat_minor": 5
}
